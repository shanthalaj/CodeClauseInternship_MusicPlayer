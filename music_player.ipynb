{
 "cells": [
  {
   "cell_type": "code",
   "execution_count": null,
   "id": "c92ddfb9",
   "metadata": {},
   "outputs": [
    {
     "name": "stdout",
     "output_type": "stream",
     "text": [
      "pygame 2.5.2 (SDL 2.28.3, Python 3.11.3)\n",
      "Hello from the pygame community. https://www.pygame.org/contribute.html\n"
     ]
    }
   ],
   "source": [
    "import os\n",
    "import tkinter as tk\n",
    "import pygame\n",
    "\n",
    "# set the directory where the music files are located\n",
    "MUSIC_DIR = \"C:\\\\Users\\\\shama\\\\OneDrive\\\\Desktop\\\\songs\"\n",
    "\n",
    "# create a list of music files\n",
    "music_files = [os.path.join(MUSIC_DIR, file) for file in os.listdir(MUSIC_DIR) if file.endswith(\".mp3\")]\n",
    "\n",
    "# initialize pygame\n",
    "pygame.mixer.init()\n",
    "\n",
    "# create the main window using tkinter\n",
    "window = tk.Tk()\n",
    "window.title(\"Music Player🎵 - By Shanthala J\")\n",
    "window.geometry(\"600x500\")\n",
    "\n",
    "# create the listbox for displaying the available songs\n",
    "\n",
    "listbox = tk.Listbox(window, bg='orange', width=35, height=10)\n",
    "\n",
    "for i, file in enumerate(music_files):\n",
    "    listbox.insert(i, os.path.basename(file))\n",
    "listbox.pack()\n",
    "\n",
    "# create the buttons for controlling the music player\n",
    "play_button = tk.Button(window, text=\"Play\", command=lambda: pygame.mixer.music.load(\n",
    "    music_files[listbox.curselection()[0]]) or pygame.mixer.music.play(), bg='green', fg='red')\n",
    "play_button.pack(side=\"left\")\n",
    "\n",
    "stop_button = tk.Button(window, text=\"Stop\", command=pygame.mixer.music.stop,fg='blue')\n",
    "stop_button.pack(side=\"left\")\n",
    "\n",
    "next_button = tk.Button(window, text=\"Next\",\n",
    "                        command=lambda: pygame.mixer.music.queue(music_files[listbox.curselection()[0] + 1]))\n",
    "next_button.pack(side=\"left\")\n",
    "\n",
    "pause_button = tk.Button(window, text=\"Pause\", command=pygame.mixer.music.pause,fg='blue')\n",
    "pause_button.pack(side=\"left\")\n",
    "\n",
    "unpause_button = tk.Button(window, text=\"Unpause\", command=pygame.mixer.music.unpause,fg='red')\n",
    "unpause_button.pack(side=\"left\")\n",
    "\n",
    "# create the volume control slider\n",
    "volume_slider = tk.Scale(window, from_=0, to=10, resolution=1, orient=\"vertical\", label=\"Volume\",\n",
    "                         command=lambda vol: pygame.mixer.music.set_volume(float(vol)),fg='red')\n",
    "volume_slider.set(5)\n",
    "volume_slider.pack()\n",
    "\n",
    "# main loop for the GUI\n",
    "window.mainloop()\n"
   ]
  },
  {
   "cell_type": "code",
   "execution_count": null,
   "id": "71f1a168",
   "metadata": {},
   "outputs": [],
   "source": []
  }
 ],
 "metadata": {
  "kernelspec": {
   "display_name": "Python 3 (ipykernel)",
   "language": "python",
   "name": "python3"
  },
  "language_info": {
   "codemirror_mode": {
    "name": "ipython",
    "version": 3
   },
   "file_extension": ".py",
   "mimetype": "text/x-python",
   "name": "python",
   "nbconvert_exporter": "python",
   "pygments_lexer": "ipython3",
   "version": "3.11.3"
  }
 },
 "nbformat": 4,
 "nbformat_minor": 5
}
